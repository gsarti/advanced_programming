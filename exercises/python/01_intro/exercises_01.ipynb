{
 "cells": [
  {
   "cell_type": "markdown",
   "metadata": {},
   "source": [
    "Description: Python Exercises 01\n",
    "\n",
    "Author: Gabriele Sarti\n",
    "\n",
    "Date: 6 December 2018"
   ]
  },
  {
   "cell_type": "code",
   "execution_count": 33,
   "metadata": {},
   "outputs": [],
   "source": [
    "from functools import reduce\n",
    "from collections import Counter\n",
    "import math"
   ]
  },
  {
   "cell_type": "code",
   "execution_count": 40,
   "metadata": {},
   "outputs": [],
   "source": [
    "def is_palindrome(string_var):\n",
    "    '''\n",
    "    returns True if string_var is palindrome, False otherwise\n",
    "    '''\n",
    "    return string_var == string_var[::-1]\n",
    "\n",
    "\n",
    "def histogram_letters(string_var):\n",
    "    '''\n",
    "    count how many times a letter is present in the string_var\n",
    "    and returns a dict.\n",
    "    '''\n",
    "    return dict(Counter(string_var))\n",
    "\n",
    "\n",
    "def get_most_frequent(list_var):\n",
    "    '''\n",
    "    returns a tuple with the most frequent object in the list with the\n",
    "    corresponing number\n",
    "    '''\n",
    "    return Counter(list_var).most_common(1)[0]\n",
    "\n",
    "\n",
    "def which_duplicates(list_var):\n",
    "    '''\n",
    "    return a dict with containing the repeted object and\n",
    "    the number of repetitions\n",
    "    '''\n",
    "    return {k:v for k, v in Counter(list_var).items() if v > 1}\n",
    "\n",
    "\n",
    "def compute_factorial(int_val):\n",
    "    '''\n",
    "    returns factorial of a number\n",
    "    '''\n",
    "    return reduce(lambda x, y: x * y, range(1, int_val + 1))\n",
    "\n",
    "\n",
    "def is_prime(int_val):\n",
    "    '''\n",
    "    returns True if int_val is prime, False otherwise\n",
    "    '''\n",
    "    if int_val < 2:\n",
    "        return False\n",
    "    if int_val in (2, 3):\n",
    "        return True\n",
    "    return bool(int_val % 2 and int_val % 3 and all(int_val % divisor and int_val % (divisor + 2) for divisor in range(5, int(math.sqrt(int_val))+1, 6)))"
   ]
  },
  {
   "cell_type": "code",
   "execution_count": 44,
   "metadata": {},
   "outputs": [
    {
     "name": "stdout",
     "output_type": "stream",
     "text": [
      "True\n"
     ]
    }
   ],
   "source": [
    "print(is_palindrome(\"itopinonavevanonipoti\"))"
   ]
  },
  {
   "cell_type": "code",
   "execution_count": 13,
   "metadata": {},
   "outputs": [
    {
     "name": "stdout",
     "output_type": "stream",
     "text": [
      "{'C': 1, 'i': 1, 'a': 2, 'o': 2, ' ': 2, 'c': 1, 'm': 1, 'e': 1, 'v': 1, '?': 1}\n"
     ]
    }
   ],
   "source": [
    "print(histogram_letters(\"Ciao come va?\"))"
   ]
  },
  {
   "cell_type": "code",
   "execution_count": 46,
   "metadata": {},
   "outputs": [
    {
     "name": "stdout",
     "output_type": "stream",
     "text": [
      "(6, 4)\n"
     ]
    }
   ],
   "source": [
    "print(get_most_frequent([1,2,3,4,5,5,5,6,6,6,6,7,8,9,9]))"
   ]
  },
  {
   "cell_type": "code",
   "execution_count": 25,
   "metadata": {},
   "outputs": [
    {
     "name": "stdout",
     "output_type": "stream",
     "text": [
      "{'a': 7, 'd': 2}\n"
     ]
    }
   ],
   "source": [
    "print(which_duplicates(\"aaaaaaabcdd\"))"
   ]
  },
  {
   "cell_type": "code",
   "execution_count": 53,
   "metadata": {},
   "outputs": [
    {
     "name": "stdout",
     "output_type": "stream",
     "text": [
      "3628800\n"
     ]
    }
   ],
   "source": [
    "print(compute_factorial(10))"
   ]
  },
  {
   "cell_type": "code",
   "execution_count": 56,
   "metadata": {},
   "outputs": [
    {
     "name": "stdout",
     "output_type": "stream",
     "text": [
      "True\n",
      "False\n"
     ]
    }
   ],
   "source": [
    "print(is_prime(17321))\n",
    "print(is_prime(17320))"
   ]
  }
 ],
 "metadata": {
  "kernelspec": {
   "display_name": "Python 3",
   "language": "python",
   "name": "python3"
  },
  "language_info": {
   "codemirror_mode": {
    "name": "ipython",
    "version": 3
   },
   "file_extension": ".py",
   "mimetype": "text/x-python",
   "name": "python",
   "nbconvert_exporter": "python",
   "pygments_lexer": "ipython3",
   "version": "3.7.1"
  }
 },
 "nbformat": 4,
 "nbformat_minor": 2
}
