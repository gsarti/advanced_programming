{
 "cells": [
  {
   "cell_type": "code",
   "execution_count": 3,
   "metadata": {},
   "outputs": [
    {
     "name": "stdout",
     "output_type": "stream",
     "text": [
      "three times\n",
      "three times\n",
      "three times\n",
      "five times\n",
      "five times\n",
      "five times\n",
      "five times\n",
      "five times\n",
      "six times\n",
      "six times\n",
      "six times\n",
      "six times\n",
      "six times\n",
      "six times\n"
     ]
    }
   ],
   "source": [
    "class MyRange():\n",
    "    \"\"\"\n",
    "    Class MyRange that acts like a range.\n",
    "    \"\"\"      \n",
    "    def __init__(self, start, stop, step=1):\n",
    "        \"\"\"\n",
    "        Initialize the range member of the MyRange class.\n",
    "        \"\"\"\n",
    "        self.range = range(start, stop, step)\n",
    "        \n",
    "def myrange(*args):\n",
    "    \"\"\"\n",
    "    Returns a custom range, managing argument errors.\n",
    "    \"\"\"\n",
    "    num_args = len(args)\n",
    "    if num_args not in [1,2,3]:\n",
    "        raise TypeError(\"myrange should have at most three arguments and at least one!\")\n",
    "    if num_args==1:\n",
    "        return MyRange(0,args[0]).range\n",
    "    elif num_args==2:\n",
    "        return MyRange(args[0],args[1]).range\n",
    "    elif num_args==3:\n",
    "        return MyRange(args[0],args[1],args[2]).range\n",
    "    \n",
    "for i in myrange(3):\n",
    "    print('three times')\n",
    "    \n",
    "for i in myrange(3,8):\n",
    "    print('five times')\n",
    "\n",
    "for i in myrange(0,11,2):\n",
    "    print('six times')"
   ]
  },
  {
   "cell_type": "code",
   "execution_count": 10,
   "metadata": {},
   "outputs": [
    {
     "name": "stdout",
     "output_type": "stream",
     "text": [
      "Execution time: 0.0014496979999876203 seconds\n",
      "Result: 333283335000\n"
     ]
    }
   ],
   "source": [
    "import time\n",
    "\n",
    "class Timer:\n",
    "    def __enter__(self):\n",
    "        self.start = time.perf_counter()\n",
    "    \n",
    "    def __exit__(self, exc_type, exc_value, traceback):\n",
    "        self.end = time.perf_counter()\n",
    "        elapsed = self.end - self.start\n",
    "        print(\"Execution time:\", elapsed, 'seconds')\n",
    "\n",
    "val = 0\n",
    "with Timer() as timer:\n",
    "    for i in range(10000):\n",
    "        val += i * i\n",
    "print(\"Result:\",val)\n",
    "\n"
   ]
  },
  {
   "cell_type": "code",
   "execution_count": null,
   "metadata": {},
   "outputs": [],
   "source": []
  }
 ],
 "metadata": {
  "kernelspec": {
   "display_name": "Python 3",
   "language": "python",
   "name": "python3"
  },
  "language_info": {
   "codemirror_mode": {
    "name": "ipython",
    "version": 3
   },
   "file_extension": ".py",
   "mimetype": "text/x-python",
   "name": "python",
   "nbconvert_exporter": "python",
   "pygments_lexer": "ipython3",
   "version": "3.7.2"
  }
 },
 "nbformat": 4,
 "nbformat_minor": 2
}
