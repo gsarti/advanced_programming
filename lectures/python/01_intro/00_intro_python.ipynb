{
 "cells": [
  {
   "cell_type": "markdown",
   "metadata": {},
   "source": [
    "# Introduction to Python\n",
    "\n",
    "Python is a language developed by Guido Van Rossum in 1991 (almost old as C++, which first version was developed in 1989). \n",
    "\n",
    "Python is an interpreted language. A Python program can be run in at least three ways:\n",
    "\n",
    "* The shell\n",
    "\n",
    "* .py files\n",
    "\n",
    "* Jupyter notebooks (originally  IPython)\n",
    "\n",
    "There are two branches of Python: Python 2 (deprecated, but still supported) and Python 3 (the current active master branch).\n",
    "\n",
    "CPython is a version of Python written entirely in C. Cython is a package which allows Python code to be compiled as C code to make it faster.\n",
    "\n",
    "Print become a function in Python 3 (In python 2, it was an operator)\n",
    "\n",
    "In Python everything is an object. "
   ]
  },
  {
   "cell_type": "code",
   "execution_count": null,
   "metadata": {},
   "outputs": [],
   "source": []
  }
 ],
 "metadata": {
  "kernelspec": {
   "display_name": "Python 3",
   "language": "python",
   "name": "python3"
  },
  "language_info": {
   "codemirror_mode": {
    "name": "ipython",
    "version": 3
   },
   "file_extension": ".py",
   "mimetype": "text/x-python",
   "name": "python",
   "nbconvert_exporter": "python",
   "pygments_lexer": "ipython3",
   "version": "3.7.1"
  }
 },
 "nbformat": 4,
 "nbformat_minor": 2
}
