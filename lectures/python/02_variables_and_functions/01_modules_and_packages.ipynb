{
 "cells": [
  {
   "cell_type": "markdown",
   "metadata": {},
   "source": [
    "### modules are just `.py` files (with python code)"
   ]
  },
  {
   "cell_type": "code",
   "execution_count": null,
   "metadata": {},
   "outputs": [],
   "source": [
    "!cat my_module.py"
   ]
  },
  {
   "cell_type": "code",
   "execution_count": 4,
   "metadata": {},
   "outputs": [
    {
     "name": "stdout",
     "output_type": "stream",
     "text": [
      "Fooing\n",
      "Barring\n"
     ]
    }
   ],
   "source": [
    "# used to reset the environment before executing the commands.\n",
    "%reset -f\n",
    "\n",
    "import my_module\n",
    "my_module.foo()\n",
    "my_module.bar()\n",
    "# foo() # error"
   ]
  },
  {
   "cell_type": "code",
   "execution_count": 5,
   "metadata": {},
   "outputs": [
    {
     "name": "stdout",
     "output_type": "stream",
     "text": [
      "Fooing\n"
     ]
    }
   ],
   "source": [
    "%reset -f\n",
    "from my_module import foo\n",
    "foo()\n",
    "# bar() # error, not defined"
   ]
  },
  {
   "cell_type": "code",
   "execution_count": 6,
   "metadata": {},
   "outputs": [
    {
     "name": "stdout",
     "output_type": "stream",
     "text": [
      "Fooing\n",
      "Barring\n"
     ]
    }
   ],
   "source": [
    "%reset -f\n",
    "import my_module as mm\n",
    "mm.foo()\n",
    "mm.bar()"
   ]
  },
  {
   "cell_type": "code",
   "execution_count": 7,
   "metadata": {},
   "outputs": [
    {
     "name": "stdout",
     "output_type": "stream",
     "text": [
      "Fooing\n",
      "Barring\n"
     ]
    }
   ],
   "source": [
    "%reset -f\n",
    "from my_module import *\n",
    "foo()\n",
    "bar()"
   ]
  },
  {
   "cell_type": "code",
   "execution_count": 17,
   "metadata": {},
   "outputs": [
    {
     "name": "stdout",
     "output_type": "stream",
     "text": [
      "Fooing\n",
      "Barring\n"
     ]
    }
   ],
   "source": [
    "%reset -f\n",
    "from my_module import foo as bar, bar as foo\n",
    "bar()\n",
    "foo()"
   ]
  },
  {
   "cell_type": "markdown",
   "metadata": {},
   "source": [
    "### where are the python modules?"
   ]
  },
  {
   "cell_type": "code",
   "execution_count": 18,
   "metadata": {},
   "outputs": [
    {
     "name": "stdout",
     "output_type": "stream",
     "text": [
      "['', '/home/gsarti/Documents/study/courses/advanced_programming/lectures/python/02_variables_and_functions', '/usr/lib/python37.zip', '/usr/lib/python3.7', '/usr/lib/python3.7/lib-dynload', '/home/gsarti/.local/lib/python3.7/site-packages', '/usr/lib/python3.7/site-packages', '/usr/lib/python3.7/site-packages/IPython/extensions', '/home/gsarti/.ipython']\n"
     ]
    }
   ],
   "source": [
    "import sys\n",
    "print(sys.path)"
   ]
  },
  {
   "cell_type": "markdown",
   "metadata": {},
   "source": [
    "The `__pycache__` folder is automatically generated when we import one or more module inside another python file. It contains a file named `[name_of_module].[python_compiler_version].pyc`, which is an optimized version of the imported library in binary. For subsequent loadings of the same library, this optimized version is automatically used if it is present in the path."
   ]
  },
  {
   "cell_type": "markdown",
   "metadata": {},
   "source": [
    "### more modules can be added through the environment variable `PYTHONPATH`"
   ]
  },
  {
   "cell_type": "markdown",
   "metadata": {},
   "source": [
    "## How can I organize modules? Packages"
   ]
  },
  {
   "cell_type": "markdown",
   "metadata": {},
   "source": [
    "The `__init__` file is empty, it is just used to define the folder as package"
   ]
  },
  {
   "cell_type": "code",
   "execution_count": 19,
   "metadata": {},
   "outputs": [
    {
     "name": "stdout",
     "output_type": "stream",
     "text": [
      "\u001b[01;34mmy_package/\u001b[00m\r\n",
      "├── bar_module.py\r\n",
      "├── foo_module.py\r\n",
      "└── __init__.py\r\n",
      "\r\n",
      "0 directories, 3 files\r\n"
     ]
    }
   ],
   "source": [
    "!tree my_package/"
   ]
  },
  {
   "cell_type": "markdown",
   "metadata": {},
   "source": [
    "### do not import packages!!!!"
   ]
  },
  {
   "cell_type": "code",
   "execution_count": 20,
   "metadata": {},
   "outputs": [
    {
     "name": "stdout",
     "output_type": "stream",
     "text": [
      "Fooing from a package\n",
      "Barring from a package\n"
     ]
    }
   ],
   "source": [
    "%reset -f\n",
    "import my_package.foo_module # import submodule\n",
    "import my_package.bar_module\n",
    "my_package.foo_module.foo()\n",
    "my_package.bar_module.bar()"
   ]
  },
  {
   "cell_type": "code",
   "execution_count": 21,
   "metadata": {},
   "outputs": [
    {
     "name": "stdout",
     "output_type": "stream",
     "text": [
      "Fooing from a package\n",
      "Barring from a package\n"
     ]
    }
   ],
   "source": [
    "%reset -f\n",
    "from my_package import foo_module,bar_module\n",
    "foo_module.foo()\n",
    "bar_module.bar()"
   ]
  },
  {
   "cell_type": "code",
   "execution_count": 22,
   "metadata": {},
   "outputs": [
    {
     "name": "stdout",
     "output_type": "stream",
     "text": [
      "Fooing from a package\n",
      "Barring from a package\n"
     ]
    }
   ],
   "source": [
    "%reset -f\n",
    "from my_package import *\n",
    "foo_module.foo()\n",
    "bar_module.bar()"
   ]
  },
  {
   "cell_type": "code",
   "execution_count": null,
   "metadata": {},
   "outputs": [],
   "source": [
    "%reset -f\n",
    "from my_package.foo_module import *\n",
    "foo()"
   ]
  },
  {
   "cell_type": "code",
   "execution_count": null,
   "metadata": {},
   "outputs": [],
   "source": [
    "%reset -f\n",
    "from my_package import foo_module as  f\n",
    "from my_package import bar_module as  b\n",
    "f.foo()\n",
    "b.bar()"
   ]
  },
  {
   "cell_type": "markdown",
   "metadata": {},
   "source": [
    "### Examples taken from math  course"
   ]
  },
  {
   "cell_type": "code",
   "execution_count": null,
   "metadata": {},
   "outputs": [],
   "source": [
    "import matplotlib.pyplot as plt\n",
    "from IPython.display import Image"
   ]
  },
  {
   "cell_type": "code",
   "execution_count": null,
   "metadata": {},
   "outputs": [],
   "source": [
    "import scipy.linalg as la"
   ]
  },
  {
   "cell_type": "code",
   "execution_count": null,
   "metadata": {},
   "outputs": [],
   "source": [
    "from scipy.special import jn, yn, jn_zeros, yn_zeros"
   ]
  }
 ],
 "metadata": {
  "kernelspec": {
   "display_name": "Python 3",
   "language": "python",
   "name": "python3"
  },
  "language_info": {
   "codemirror_mode": {
    "name": "ipython",
    "version": 3
   },
   "file_extension": ".py",
   "mimetype": "text/x-python",
   "name": "python",
   "nbconvert_exporter": "python",
   "pygments_lexer": "ipython3",
   "version": "3.7.1"
  }
 },
 "nbformat": 4,
 "nbformat_minor": 2
}
